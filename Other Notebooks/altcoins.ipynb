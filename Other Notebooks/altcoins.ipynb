{
 "cells": [
  {
   "cell_type": "code",
   "execution_count": 1,
   "metadata": {},
   "outputs": [],
   "source": [
    "import pandas as pd\n",
    "import numpy as np"
   ]
  },
  {
   "cell_type": "code",
   "execution_count": 2,
   "metadata": {},
   "outputs": [],
   "source": [
    "bit = pd.read_csv('Bitcoin Historical Data - Investing.com-2.csv')"
   ]
  },
  {
   "cell_type": "code",
   "execution_count": 3,
   "metadata": {},
   "outputs": [
    {
     "data": {
      "text/html": [
       "<div>\n",
       "<style scoped>\n",
       "    .dataframe tbody tr th:only-of-type {\n",
       "        vertical-align: middle;\n",
       "    }\n",
       "\n",
       "    .dataframe tbody tr th {\n",
       "        vertical-align: top;\n",
       "    }\n",
       "\n",
       "    .dataframe thead th {\n",
       "        text-align: right;\n",
       "    }\n",
       "</style>\n",
       "<table border=\"1\" class=\"dataframe\">\n",
       "  <thead>\n",
       "    <tr style=\"text-align: right;\">\n",
       "      <th></th>\n",
       "      <th>Date</th>\n",
       "      <th>Price</th>\n",
       "      <th>Open</th>\n",
       "      <th>High</th>\n",
       "      <th>Low</th>\n",
       "      <th>Vol.</th>\n",
       "      <th>Change %</th>\n",
       "    </tr>\n",
       "  </thead>\n",
       "  <tbody>\n",
       "    <tr>\n",
       "      <th>0</th>\n",
       "      <td>May 09, 2020</td>\n",
       "      <td>9,654.9</td>\n",
       "      <td>9,806.0</td>\n",
       "      <td>9,910.5</td>\n",
       "      <td>9,534.0</td>\n",
       "      <td>1.36M</td>\n",
       "      <td>-1.54%</td>\n",
       "    </tr>\n",
       "    <tr>\n",
       "      <th>1</th>\n",
       "      <td>May 08, 2020</td>\n",
       "      <td>9,806.2</td>\n",
       "      <td>9,980.1</td>\n",
       "      <td>10,018.2</td>\n",
       "      <td>9,731.4</td>\n",
       "      <td>1.42M</td>\n",
       "      <td>-1.74%</td>\n",
       "    </tr>\n",
       "    <tr>\n",
       "      <th>2</th>\n",
       "      <td>May 07, 2020</td>\n",
       "      <td>9,979.8</td>\n",
       "      <td>9,152.7</td>\n",
       "      <td>10,033.0</td>\n",
       "      <td>9,064.8</td>\n",
       "      <td>1.91M</td>\n",
       "      <td>9.05%</td>\n",
       "    </tr>\n",
       "    <tr>\n",
       "      <th>3</th>\n",
       "      <td>May 06, 2020</td>\n",
       "      <td>9,151.4</td>\n",
       "      <td>9,000.6</td>\n",
       "      <td>9,373.7</td>\n",
       "      <td>8,923.6</td>\n",
       "      <td>1.62M</td>\n",
       "      <td>1.67%</td>\n",
       "    </tr>\n",
       "    <tr>\n",
       "      <th>4</th>\n",
       "      <td>May 05, 2020</td>\n",
       "      <td>9,001.0</td>\n",
       "      <td>8,874.2</td>\n",
       "      <td>9,078.7</td>\n",
       "      <td>8,800.4</td>\n",
       "      <td>1.05M</td>\n",
       "      <td>1.42%</td>\n",
       "    </tr>\n",
       "  </tbody>\n",
       "</table>\n",
       "</div>"
      ],
      "text/plain": [
       "           Date    Price     Open      High      Low   Vol. Change %\n",
       "0  May 09, 2020  9,654.9  9,806.0   9,910.5  9,534.0  1.36M   -1.54%\n",
       "1  May 08, 2020  9,806.2  9,980.1  10,018.2  9,731.4  1.42M   -1.74%\n",
       "2  May 07, 2020  9,979.8  9,152.7  10,033.0  9,064.8  1.91M    9.05%\n",
       "3  May 06, 2020  9,151.4  9,000.6   9,373.7  8,923.6  1.62M    1.67%\n",
       "4  May 05, 2020  9,001.0  8,874.2   9,078.7  8,800.4  1.05M    1.42%"
      ]
     },
     "execution_count": 3,
     "metadata": {},
     "output_type": "execute_result"
    }
   ],
   "source": [
    "bit.head()"
   ]
  },
  {
   "cell_type": "code",
   "execution_count": 4,
   "metadata": {},
   "outputs": [
    {
     "name": "stdout",
     "output_type": "stream",
     "text": [
      "<class 'pandas.core.frame.DataFrame'>\n",
      "RangeIndex: 3584 entries, 0 to 3583\n",
      "Data columns (total 7 columns):\n",
      "Date        3584 non-null object\n",
      "Price       3584 non-null object\n",
      "Open        3584 non-null object\n",
      "High        3584 non-null object\n",
      "Low         3584 non-null object\n",
      "Vol.        3584 non-null object\n",
      "Change %    3584 non-null object\n",
      "dtypes: object(7)\n",
      "memory usage: 196.1+ KB\n"
     ]
    }
   ],
   "source": [
    "bit.info()"
   ]
  },
  {
   "cell_type": "code",
   "execution_count": 6,
   "metadata": {},
   "outputs": [
    {
     "data": {
      "text/plain": [
       "'Sep 30, 2019'"
      ]
     },
     "execution_count": 6,
     "metadata": {},
     "output_type": "execute_result"
    }
   ],
   "source": [
    "bit['Date'].max()"
   ]
  },
  {
   "cell_type": "code",
   "execution_count": 7,
   "metadata": {},
   "outputs": [
    {
     "data": {
      "text/plain": [
       "'Apr 01, 2011'"
      ]
     },
     "execution_count": 7,
     "metadata": {},
     "output_type": "execute_result"
    }
   ],
   "source": [
    "bit['Date'].min()"
   ]
  },
  {
   "cell_type": "code",
   "execution_count": null,
   "metadata": {},
   "outputs": [],
   "source": []
  }
 ],
 "metadata": {
  "kernelspec": {
   "display_name": "Python 3",
   "language": "python",
   "name": "python3"
  },
  "language_info": {
   "codemirror_mode": {
    "name": "ipython",
    "version": 3
   },
   "file_extension": ".py",
   "mimetype": "text/x-python",
   "name": "python",
   "nbconvert_exporter": "python",
   "pygments_lexer": "ipython3",
   "version": "3.7.3"
  }
 },
 "nbformat": 4,
 "nbformat_minor": 4
}
